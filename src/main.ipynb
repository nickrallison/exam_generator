{
 "cells": [
  {
   "cell_type": "code",
   "execution_count": 9,
   "metadata": {},
   "outputs": [],
   "source": [
    "from tex import TexDocument"
   ]
  },
  {
   "cell_type": "code",
   "execution_count": 10,
   "metadata": {},
   "outputs": [
    {
     "ename": "NameError",
     "evalue": "name 'pathlib' is not defined",
     "output_type": "error",
     "traceback": [
      "\u001b[0;31m---------------------------------------------------------------------------\u001b[0m",
      "\u001b[0;31mNameError\u001b[0m                                 Traceback (most recent call last)",
      "Cell \u001b[0;32mIn[10], line 2\u001b[0m\n\u001b[1;32m      1\u001b[0m doc \u001b[39m=\u001b[39m TexDocument(\u001b[39m\"\u001b[39m\u001b[39mtext\u001b[39m\u001b[39m\"\u001b[39m, \u001b[39m\"\u001b[39m\u001b[39mlatex\u001b[39m\u001b[39m\"\u001b[39m)\n\u001b[0;32m----> 2\u001b[0m doc\u001b[39m.\u001b[39;49mget_questions(\u001b[39m\"\u001b[39;49m\u001b[39mPHYS 259\u001b[39;49m\u001b[39m\"\u001b[39;49m, \u001b[39m\"\u001b[39;49m\u001b[39mquestion_bank.json\u001b[39;49m\u001b[39m\"\u001b[39;49m, [\u001b[39m\"\u001b[39;49m\u001b[39mCoulomb\u001b[39;49m\u001b[39m'\u001b[39;49m\u001b[39ms Law\u001b[39;49m\u001b[39m\"\u001b[39;49m], [\u001b[39m3\u001b[39;49m])\n\u001b[1;32m      3\u001b[0m doc\u001b[39m.\u001b[39mprint_tex(\u001b[39m\"\u001b[39m\u001b[39mout.tex\u001b[39m\u001b[39m\"\u001b[39m, \u001b[39m\"\u001b[39m\u001b[39mw+\u001b[39m\u001b[39m\"\u001b[39m)\n",
      "File \u001b[0;32m~/Code/Larger Projects/exam_generator/src/tex.py:97\u001b[0m, in \u001b[0;36mTexDocument.get_questions\u001b[0;34m(self, class_name, questions_file, units, questions_per_unit)\u001b[0m\n\u001b[1;32m     96\u001b[0m \u001b[39mdef\u001b[39;00m \u001b[39mget_questions\u001b[39m(\u001b[39mself\u001b[39m, class_name: \u001b[39mstr\u001b[39m, questions_file: \u001b[39mstr\u001b[39m, units: List[\u001b[39mstr\u001b[39m], questions_per_unit: List[\u001b[39mint\u001b[39m]) \u001b[39m-\u001b[39m\u001b[39m>\u001b[39m \u001b[39mNone\u001b[39;00m:\n\u001b[0;32m---> 97\u001b[0m     json_questions: \u001b[39mdict\u001b[39m \u001b[39m=\u001b[39m input_json(questions_file)\n\u001b[1;32m     99\u001b[0m     \u001b[39m#if self.debugging:\u001b[39;00m\n\u001b[1;32m    100\u001b[0m         \u001b[39m#for (index, unit) in enumerate(units):\u001b[39;00m\n\u001b[1;32m    101\u001b[0m             \u001b[39m#assert get_unit_length(json_questions, class_name, unit) >= questions_per_unit[index], f\"More questions chosen: {questions_per_unit[index]}, than are contained in {unit}: {get_unit_length(questions_file, class_name, unit)}\"\u001b[39;00m\n\u001b[0;32m   (...)\u001b[0m\n\u001b[1;32m    104\u001b[0m     \u001b[39m# Generates random indices for questions & grabs those questions & appends them to the question list\u001b[39;00m\n\u001b[1;32m    105\u001b[0m     \u001b[39m# Also shuffles the list\u001b[39;00m\n\u001b[1;32m    106\u001b[0m     \u001b[39mfor\u001b[39;00m (unit_index, unit) \u001b[39min\u001b[39;00m \u001b[39menumerate\u001b[39m(units):\n",
      "File \u001b[0;32m~/Code/Larger Projects/exam_generator/src/json_file_io.py:7\u001b[0m, in \u001b[0;36minput_json\u001b[0;34m(file_name, debugging)\u001b[0m\n\u001b[1;32m      6\u001b[0m \u001b[39mdef\u001b[39;00m \u001b[39minput_json\u001b[39m(file_name: \u001b[39mstr\u001b[39m, debugging\u001b[39m=\u001b[39m\u001b[39mFalse\u001b[39;00m) \u001b[39m-\u001b[39m\u001b[39m>\u001b[39m \u001b[39mdict\u001b[39m:\n\u001b[0;32m----> 7\u001b[0m     json_folder \u001b[39m=\u001b[39m pathlib\u001b[39m.\u001b[39mPath(\u001b[39m\"\u001b[39m\u001b[39mtext\u001b[39m\u001b[39m\"\u001b[39m)\n\u001b[1;32m      8\u001b[0m     json_file: \u001b[39mstr\u001b[39m \u001b[39m=\u001b[39m \u001b[39mstr\u001b[39m((json_folder \u001b[39m/\u001b[39m file_name)\u001b[39m.\u001b[39mabsolute())\n\u001b[1;32m      9\u001b[0m     \u001b[39mreturn\u001b[39;00m json\u001b[39m.\u001b[39mloads(\u001b[39mopen\u001b[39m(json_file)\u001b[39m.\u001b[39mread())\n",
      "\u001b[0;31mNameError\u001b[0m: name 'pathlib' is not defined"
     ]
    }
   ],
   "source": [
    "    doc = TexDocument(\"text\", \"latex\")\n",
    "    doc.get_questions(\"PHYS 259\", \"question_bank.json\", [\"Coulomb's Law\"], [3])\n",
    "    doc.print_tex(\"out.tex\", \"w+\")"
   ]
  }
 ],
 "metadata": {
  "kernelspec": {
   "display_name": "Python 3",
   "language": "python",
   "name": "python3"
  },
  "language_info": {
   "codemirror_mode": {
    "name": "ipython",
    "version": 3
   },
   "file_extension": ".py",
   "mimetype": "text/x-python",
   "name": "python",
   "nbconvert_exporter": "python",
   "pygments_lexer": "ipython3",
   "version": "3.8.10"
  },
  "orig_nbformat": 4
 },
 "nbformat": 4,
 "nbformat_minor": 2
}
